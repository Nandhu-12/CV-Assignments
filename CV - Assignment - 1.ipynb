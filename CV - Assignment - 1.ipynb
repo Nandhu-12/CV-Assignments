{
 "cells": [
  {
   "cell_type": "markdown",
   "id": "dcf4efe2",
   "metadata": {},
   "source": [
    "# CV - Assignment - 1"
   ]
  },
  {
   "cell_type": "markdown",
   "id": "80686f11",
   "metadata": {},
   "source": [
    "**1. What exactly is a feature?**"
   ]
  },
  {
   "cell_type": "markdown",
   "id": "cacf3bda",
   "metadata": {},
   "source": [
    "In computer vision (CV), a \"feature\" refers to a specific, distinctive, and identifiable part of an image or a pattern that can be used for various tasks such as object recognition, image matching, tracking, and more."
   ]
  },
  {
   "cell_type": "markdown",
   "id": "70cd96bf",
   "metadata": {},
   "source": [
    "**2. For a top edge detector, write out the convolutional kernel matrix.**"
   ]
  },
  {
   "cell_type": "markdown",
   "id": "89014189",
   "metadata": {},
   "source": [
    "Kernel for Vertical (Top) Edge Detection (Sobel Y):\n",
    "[-1  -2  -1]\n",
    "[ 0   0   0]\n",
    "[ 1   2   1]"
   ]
  },
  {
   "cell_type": "markdown",
   "id": "0a0eede4",
   "metadata": {},
   "source": [
    "**3. Describe the mathematical operation that a 3x3 kernel performs on a single pixel in an image.**"
   ]
  },
  {
   "cell_type": "markdown",
   "id": "4618d33d",
   "metadata": {},
   "source": [
    "O(x, y) = Σ [I(x + i, y + j) * K(i, j)] for i = -1, 0, 1 and j = -1, 0, 1\n"
   ]
  },
  {
   "cell_type": "markdown",
   "id": "fbbdea6b",
   "metadata": {},
   "source": [
    "**4. What is the significance of a convolutional kernel added to a 3x3 matrix of zeroes?**"
   ]
  },
  {
   "cell_type": "markdown",
   "id": "d1f6264a",
   "metadata": {},
   "source": [
    "No operations are performed as the filter is 3*3 zeros"
   ]
  },
  {
   "cell_type": "markdown",
   "id": "e2f43b81",
   "metadata": {},
   "source": [
    "**5. What exactly is padding?**"
   ]
  },
  {
   "cell_type": "markdown",
   "id": "4e9eab22",
   "metadata": {},
   "source": [
    "padding is adding another boundry of zeros to avoid losing information"
   ]
  },
  {
   "cell_type": "markdown",
   "id": "041014dc",
   "metadata": {},
   "source": [
    "**6. What is the concept of stride?**"
   ]
  },
  {
   "cell_type": "markdown",
   "id": "33affe71",
   "metadata": {},
   "source": [
    "the concept of \"stride\" refers to the step size or the amount by which the convolutional kernel (also known as a filter) moves horizontally and vertically across the input image when performing the convolution operation. Stride is one of the hyperparameters that you can adjust when designing a convolutional layer in a neural network."
   ]
  },
  {
   "cell_type": "markdown",
   "id": "a5c8a73d",
   "metadata": {},
   "source": [
    "**8. What exactly is a channel?**"
   ]
  },
  {
   "cell_type": "markdown",
   "id": "140d2b0a",
   "metadata": {},
   "source": [
    "\"channel\" refers to one of the dimensions of the input data or the intermediate data within a neural network layer. Channels are used to represent different types of information or features within the data"
   ]
  }
 ],
 "metadata": {
  "kernelspec": {
   "display_name": "Python 3 (ipykernel)",
   "language": "python",
   "name": "python3"
  },
  "language_info": {
   "codemirror_mode": {
    "name": "ipython",
    "version": 3
   },
   "file_extension": ".py",
   "mimetype": "text/x-python",
   "name": "python",
   "nbconvert_exporter": "python",
   "pygments_lexer": "ipython3",
   "version": "3.9.12"
  }
 },
 "nbformat": 4,
 "nbformat_minor": 5
}
