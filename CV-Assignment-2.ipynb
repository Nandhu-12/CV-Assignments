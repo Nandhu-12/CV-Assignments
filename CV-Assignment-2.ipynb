{
 "cells": [
  {
   "cell_type": "markdown",
   "id": "5cdc6d06",
   "metadata": {},
   "source": [
    "# CV-Assignment-2"
   ]
  },
  {
   "cell_type": "markdown",
   "id": "2d439fb6",
   "metadata": {},
   "source": [
    "**1. Explain convolutional neural network, and how does it work?**"
   ]
  },
  {
   "cell_type": "markdown",
   "id": "e0538cd2",
   "metadata": {},
   "source": [
    "CNNs are highly effective for tasks like image classification, object detection, facial recognition, and more. They have revolutionized computer vision and achieved state-of-the-art results in various image-related tasks."
   ]
  },
  {
   "cell_type": "markdown",
   "id": "526972b1",
   "metadata": {},
   "source": [
    "**2. How does refactoring parts of your neural network definition favor you?**"
   ]
  },
  {
   "cell_type": "markdown",
   "id": "70b6f57a",
   "metadata": {},
   "source": [
    "Code Maintainability, Reusability, Readability, Debugging and Testing etc"
   ]
  },
  {
   "cell_type": "markdown",
   "id": "b97c8968",
   "metadata": {},
   "source": [
    "**3. What does it mean to flatten? Is it necessary to include it in the MNIST CNN? What is the reason\n",
    "for this?**"
   ]
  },
  {
   "cell_type": "markdown",
   "id": "6f7a2a5e",
   "metadata": {},
   "source": [
    "Flattening means converting the array to 1d array"
   ]
  },
  {
   "cell_type": "markdown",
   "id": "e93dd57a",
   "metadata": {},
   "source": [
    "**4. What exactly does NCHW stand for?**"
   ]
  },
  {
   "cell_type": "markdown",
   "id": "46079e0c",
   "metadata": {},
   "source": [
    "N - Number of Samples                                                                                                     \n",
    "C - Number of channels                                                                                                        \n",
    "H - Height                                                                                                                   \n",
    "W - Width"
   ]
  },
  {
   "cell_type": "markdown",
   "id": "50b3a4c3",
   "metadata": {},
   "source": [
    "**6.Explain definition of receptive field?**"
   ]
  },
  {
   "cell_type": "markdown",
   "id": "ba7765cd",
   "metadata": {},
   "source": [
    "Insimple words, How much pixels can a kernel/filter see is what receptive field means."
   ]
  },
  {
   "cell_type": "markdown",
   "id": "c51925f2",
   "metadata": {},
   "source": [
    "**7. What is the scale of an activation's receptive field after two stride-2 convolutions? What is the\n",
    "reason for this?**"
   ]
  },
  {
   "cell_type": "markdown",
   "id": "9b6d10f3",
   "metadata": {},
   "source": [
    "when you apply a convolutional layer with a stride of 2, it effectively downsamples the spatial dimensions of the feature map by a factor of 2. In other words, it reduces both the height and width of the feature map by half compared to the previous layer."
   ]
  },
  {
   "cell_type": "markdown",
   "id": "53aa797d",
   "metadata": {},
   "source": [
    "**8. What is the tensor representation of a color image?**"
   ]
  },
  {
   "cell_type": "markdown",
   "id": "0d762225",
   "metadata": {},
   "source": [
    "A color image is typically represented as a 3D tensor, often referred to as a \"color image tensor\" or simply an \"image tensor.\" This tensor consists of three dimensions corresponding to the image's width, height, and color channels. "
   ]
  },
  {
   "cell_type": "markdown",
   "id": "05618af8",
   "metadata": {},
   "source": [
    "**9. How does a color input interact with a convolution?**"
   ]
  },
  {
   "cell_type": "markdown",
   "id": "69b9e83c",
   "metadata": {},
   "source": [
    "RGB"
   ]
  },
  {
   "cell_type": "code",
   "execution_count": null,
   "id": "5b78602d",
   "metadata": {},
   "outputs": [],
   "source": []
  }
 ],
 "metadata": {
  "kernelspec": {
   "display_name": "Python 3 (ipykernel)",
   "language": "python",
   "name": "python3"
  },
  "language_info": {
   "codemirror_mode": {
    "name": "ipython",
    "version": 3
   },
   "file_extension": ".py",
   "mimetype": "text/x-python",
   "name": "python",
   "nbconvert_exporter": "python",
   "pygments_lexer": "ipython3",
   "version": "3.9.12"
  }
 },
 "nbformat": 4,
 "nbformat_minor": 5
}
